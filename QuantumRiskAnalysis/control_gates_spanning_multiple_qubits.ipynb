{
 "cells": [
  {
   "cell_type": "code",
   "execution_count": 19,
   "metadata": {
    "collapsed": true,
    "deletable": true,
    "editable": true
   },
   "outputs": [],
   "source": [
    "%display latex"
   ]
  },
  {
   "cell_type": "markdown",
   "metadata": {
    "deletable": true,
    "editable": true
   },
   "source": [
    "# Control Gates Spanning Multiple Qubits"
   ]
  },
  {
   "cell_type": "markdown",
   "metadata": {
    "deletable": true,
    "editable": true
   },
   "source": [
    "## Introduction"
   ]
  },
  {
   "cell_type": "markdown",
   "metadata": {
    "deletable": true,
    "editable": true
   },
   "source": [
    "Two qubit gates where the control qubit and the controlled qubit are no longer adjacent, as in the $C_u$ case.\n",
    "In matrix notation and for a general unitary operator $U=\\begin{bmatrix}u_{11} & u_{12} \\\\ u_{21} & u_{22}\\end{bmatrix}$ we have $C_{u} = \\begin{bmatrix} 1 & 0 & 0 & 0 \\\\ 0 & 1 & 0 &0 \\\\  0 & 0 & u_{11} & u_{12} \\\\ 0 & 0 & u_{21} & u_{22} \\end{bmatrix}$\n",
    "\n",
    "In this case the control qubit is $|q_{0}>$ (or $q_0$) and the controlled qubit is $|q_1>$ (or $q_1$).\n",
    "\n",
    "If the controlled qubit is $|q_{n}>$ (i.e. we have n qubits with the lowest indexed qubit $q_{0}$ controlling the application of some unitary operator $U$ on the $(n-1)^{th}$ qubit) we can apply a series of swap gates to convert the problem to the application of an adjacent $C_u$ operator.\n",
    "\n",
    "Define :\n",
    "\n",
    "$Q = \\displaystyle{\\prod_{k=1}^{n-2}} \\;\\; I^{n-k-2} \\otimes S \\otimes I^{k}$ \n",
    "\n",
    "$Q^{\\dagger} = \\displaystyle{\\prod_{k=n-2}^{1}} \\;\\; I^{n-k-2} \\otimes S \\otimes I^{k} = \\displaystyle{\\prod_{k=1}^{n-2}} \\;\\; I^{k-1} \\otimes S \\otimes I^{n - 1 - k}$ \n",
    "\n",
    "$P = I^{n-2} \\otimes C_{u}$\n",
    "\n",
    "$W = I^{n-2} \\otimes S$\n",
    "\n",
    "I is the $2 \\times 2$ identity matrix and $S=\\begin{bmatrix} 1&0&0&0 \\\\ 0&0&1&0 \\\\ 0&1&0&0 \\\\ 0&0&0&1 \\end{bmatrix}$ is the swap matrix. I have used the convention that $I^{0} = 1$ and effectively can be ignored.\n",
    "\n",
    "\n",
    "Expressing the operation of a non-adjacent qubit controlled $U$ ($\\bar{C}_{u,n}$) in terms of an adjacent qubit gate is :\n",
    "\n",
    "$\\bar{C}_{u,n} = Q^{\\dagger} \\times P \\times Q$\n",
    "\n",
    "If the control and controlled qubit are flipped (i.e. $q_{n-1}$ controls the operation $U q_{0}$) than we have :\n",
    "\n",
    "$\\tilde{C}_{u,n} = Q^{\\dagger} \\times W^{\\dagger} \\times P \\times W \\times Q$\n",
    "\n",
    "Note that $W^{\\dagger} = W$ and that $W$ effectively swaps the role of $q_{0}$ and $q_{1}$."
   ]
  },
  {
   "cell_type": "markdown",
   "metadata": {
    "deletable": true,
    "editable": true
   },
   "source": [
    "## Consider the case n=3. \n",
    "\n",
    "In that case :\n",
    "\n",
    "$Q = S \\otimes I$\n",
    "\n",
    "$Q^{\\dagger} = S \\otimes I$\n",
    "\n",
    "$W = I \\otimes S $\n",
    "\n",
    "$P = I \\otimes C_{u}$\n",
    "\n",
    "so that :\n",
    "\n",
    "$\\bar{C}_{u,3} = Q^{\\dagger} \\times P \\times Q = (S \\otimes I) \\times (I \\otimes C_{u}) \\times (I \\otimes S)$\n",
    "\n",
    "$\\tilde{C}_{u,3} = Q^{\\dagger} \\times W \\times P \\times W \\times Q = (S \\otimes I) \\times (I \\otimes S) \\times (I \\otimes C_{u}) \\times (I \\otimes S) \\times (I \\otimes S)$"
   ]
  },
  {
   "cell_type": "markdown",
   "metadata": {
    "deletable": true,
    "editable": true
   },
   "source": [
    "Define the identity and swap matrix"
   ]
  },
  {
   "cell_type": "code",
   "execution_count": 20,
   "metadata": {
    "collapsed": false,
    "deletable": true,
    "editable": true
   },
   "outputs": [
    {
     "data": {
      "text/html": [
       "<html><script type=\"math/tex; mode=display\">\\newcommand{\\Bold}[1]{\\mathbf{#1}}\\left(\\left(\\begin{array}{rr}\n",
       "1 & 0 \\\\\n",
       "0 & 1\n",
       "\\end{array}\\right), \\left(\\begin{array}{rrrr}\n",
       "1 & 0 & 0 & 0 \\\\\n",
       "0 & 0 & 1 & 0 \\\\\n",
       "0 & 1 & 0 & 0 \\\\\n",
       "0 & 0 & 0 & 1\n",
       "\\end{array}\\right)\\right)</script></html>"
      ],
      "text/plain": [
       "(\n",
       "       [1 0 0 0]\n",
       "       [0 0 1 0]\n",
       "[1 0]  [0 1 0 0]\n",
       "[0 1], [0 0 0 1]\n",
       ")"
      ]
     },
     "execution_count": 20,
     "metadata": {},
     "output_type": "execute_result"
    }
   ],
   "source": [
    "I = matrix.identity(2)\n",
    "S = matrix([[1,0,0,0],[0,0,1,0],[0,1,0,0],[0,0,0,1]])\n",
    "I,S"
   ]
  },
  {
   "cell_type": "markdown",
   "metadata": {
    "deletable": true,
    "editable": true
   },
   "source": [
    "Define the $C_u$ matrix"
   ]
  },
  {
   "cell_type": "code",
   "execution_count": 21,
   "metadata": {
    "collapsed": false,
    "deletable": true,
    "editable": true
   },
   "outputs": [
    {
     "data": {
      "text/html": [
       "<html><script type=\"math/tex; mode=display\">\\newcommand{\\Bold}[1]{\\mathbf{#1}}\\left(\\begin{array}{rrrr}\n",
       "1 & 0 & 0 & 0 \\\\\n",
       "0 & 1 & 0 & 0 \\\\\n",
       "0 & 0 & u_{11} & u_{12} \\\\\n",
       "0 & 0 & u_{21} & u_{22}\n",
       "\\end{array}\\right)</script></html>"
      ],
      "text/plain": [
       "[  1   0   0   0]\n",
       "[  0   1   0   0]\n",
       "[  0   0 u11 u12]\n",
       "[  0   0 u21 u22]"
      ]
     },
     "execution_count": 21,
     "metadata": {},
     "output_type": "execute_result"
    }
   ],
   "source": [
    "u11,u12,u21,u22=var('u11,u12,u21,u22')\n",
    "C_u=matrix([[1,0,0,0],[0,1,0,0],[0,0,u11,u12],[0,0,u21,u22]])\n",
    "C_u"
   ]
  },
  {
   "cell_type": "markdown",
   "metadata": {
    "deletable": true,
    "editable": true
   },
   "source": [
    "Define the qubit as a tensor product of three single qubits $q_{0}$ through $q_2$ as \n",
    "\n",
    "$ q = q_0 \\otimes q_1 \\otimes q_2 $\n",
    "\n",
    "$q_i = \\begin{bmatrix} q_{i0} \\\\ q_{i1} \\end{bmatrix}$ with $q_{i0}$ and $q_{i1}$ constrained by\n",
    "\n",
    "$q_{i0} + q_{i1} = 1 $\n",
    "\n",
    "$q_{i0} \\times q_{i1} = 0$\n",
    "\n",
    "$q_{io}, q_{i1} \\in \\{0,1\\}$"
   ]
  },
  {
   "cell_type": "code",
   "execution_count": 22,
   "metadata": {
    "collapsed": false,
    "deletable": true,
    "editable": true
   },
   "outputs": [
    {
     "data": {
      "text/html": [
       "<html><script type=\"math/tex; mode=display\">\\newcommand{\\Bold}[1]{\\mathbf{#1}}\\left(\\begin{array}{r}\n",
       "q_{00} q_{10} q_{20} \\\\\n",
       "q_{00} q_{10} q_{21} \\\\\n",
       "\\hline\n",
       " q_{00} q_{11} q_{20} \\\\\n",
       "q_{00} q_{11} q_{21} \\\\\n",
       "\\hline\n",
       " q_{01} q_{10} q_{20} \\\\\n",
       "q_{01} q_{10} q_{21} \\\\\n",
       "\\hline\n",
       " q_{01} q_{11} q_{20} \\\\\n",
       "q_{01} q_{11} q_{21}\n",
       "\\end{array}\\right)</script></html>"
      ],
      "text/plain": [
       "[q00*q10*q20]\n",
       "[q00*q10*q21]\n",
       "[-----------]\n",
       "[q00*q11*q20]\n",
       "[q00*q11*q21]\n",
       "[-----------]\n",
       "[q01*q10*q20]\n",
       "[q01*q10*q21]\n",
       "[-----------]\n",
       "[q01*q11*q20]\n",
       "[q01*q11*q21]"
      ]
     },
     "execution_count": 22,
     "metadata": {},
     "output_type": "execute_result"
    }
   ],
   "source": [
    "q00,q01,q10,q11,q20,q21=var('q00,q01,q10,q11,q20,q21')\n",
    "\n",
    "q0=matrix([[q00],[q01]])\n",
    "q1=matrix([[q10],[q11]])\n",
    "q2=matrix([[q20],[q21]])\n",
    "q=q0.tensor_product(q1).tensor_product(q2)\n",
    "q"
   ]
  },
  {
   "cell_type": "code",
   "execution_count": 23,
   "metadata": {
    "collapsed": false,
    "deletable": true,
    "editable": true
   },
   "outputs": [
    {
     "data": {
      "text/html": [
       "<html><script type=\"math/tex; mode=display\">\\newcommand{\\Bold}[1]{\\mathbf{#1}}\\left(\\left(\\begin{array}{rr|rr|rr|rr}\n",
       "1 & 0 & 0 & 0 & 0 & 0 & 0 & 0 \\\\\n",
       "0 & 1 & 0 & 0 & 0 & 0 & 0 & 0 \\\\\n",
       "\\hline\n",
       " 0 & 0 & 0 & 0 & 1 & 0 & 0 & 0 \\\\\n",
       "0 & 0 & 0 & 0 & 0 & 1 & 0 & 0 \\\\\n",
       "\\hline\n",
       " 0 & 0 & 1 & 0 & 0 & 0 & 0 & 0 \\\\\n",
       "0 & 0 & 0 & 1 & 0 & 0 & 0 & 0 \\\\\n",
       "\\hline\n",
       " 0 & 0 & 0 & 0 & 0 & 0 & 1 & 0 \\\\\n",
       "0 & 0 & 0 & 0 & 0 & 0 & 0 & 1\n",
       "\\end{array}\\right), \\left(\\begin{array}{rr|rr|rr|rr}\n",
       "1 & 0 & 0 & 0 & 0 & 0 & 0 & 0 \\\\\n",
       "0 & 1 & 0 & 0 & 0 & 0 & 0 & 0 \\\\\n",
       "\\hline\n",
       " 0 & 0 & 0 & 0 & 1 & 0 & 0 & 0 \\\\\n",
       "0 & 0 & 0 & 0 & 0 & 1 & 0 & 0 \\\\\n",
       "\\hline\n",
       " 0 & 0 & 1 & 0 & 0 & 0 & 0 & 0 \\\\\n",
       "0 & 0 & 0 & 1 & 0 & 0 & 0 & 0 \\\\\n",
       "\\hline\n",
       " 0 & 0 & 0 & 0 & 0 & 0 & 1 & 0 \\\\\n",
       "0 & 0 & 0 & 0 & 0 & 0 & 0 & 1\n",
       "\\end{array}\\right), \\left(\\begin{array}{rrrr|rrrr}\n",
       "1 & 0 & 0 & 0 & 0 & 0 & 0 & 0 \\\\\n",
       "0 & 0 & 1 & 0 & 0 & 0 & 0 & 0 \\\\\n",
       "0 & 1 & 0 & 0 & 0 & 0 & 0 & 0 \\\\\n",
       "0 & 0 & 0 & 1 & 0 & 0 & 0 & 0 \\\\\n",
       "\\hline\n",
       " 0 & 0 & 0 & 0 & 1 & 0 & 0 & 0 \\\\\n",
       "0 & 0 & 0 & 0 & 0 & 0 & 1 & 0 \\\\\n",
       "0 & 0 & 0 & 0 & 0 & 1 & 0 & 0 \\\\\n",
       "0 & 0 & 0 & 0 & 0 & 0 & 0 & 1\n",
       "\\end{array}\\right), \\left(\\begin{array}{rrrr|rrrr}\n",
       "1 & 0 & 0 & 0 & 0 & 0 & 0 & 0 \\\\\n",
       "0 & 1 & 0 & 0 & 0 & 0 & 0 & 0 \\\\\n",
       "0 & 0 & u_{11} & u_{12} & 0 & 0 & 0 & 0 \\\\\n",
       "0 & 0 & u_{21} & u_{22} & 0 & 0 & 0 & 0 \\\\\n",
       "\\hline\n",
       " 0 & 0 & 0 & 0 & 1 & 0 & 0 & 0 \\\\\n",
       "0 & 0 & 0 & 0 & 0 & 1 & 0 & 0 \\\\\n",
       "0 & 0 & 0 & 0 & 0 & 0 & u_{11} & u_{12} \\\\\n",
       "0 & 0 & 0 & 0 & 0 & 0 & u_{21} & u_{22}\n",
       "\\end{array}\\right)\\right)</script></html>"
      ],
      "text/plain": [
       "(\n",
       "[1 0|0 0|0 0|0 0]  [1 0|0 0|0 0|0 0]                   \n",
       "[0 1|0 0|0 0|0 0]  [0 1|0 0|0 0|0 0]                   \n",
       "[---+---+---+---]  [---+---+---+---]  [1 0 0 0|0 0 0 0]\n",
       "[0 0|0 0|1 0|0 0]  [0 0|0 0|1 0|0 0]  [0 0 1 0|0 0 0 0]\n",
       "[0 0|0 0|0 1|0 0]  [0 0|0 0|0 1|0 0]  [0 1 0 0|0 0 0 0]\n",
       "[---+---+---+---]  [---+---+---+---]  [0 0 0 1|0 0 0 0]\n",
       "[0 0|1 0|0 0|0 0]  [0 0|1 0|0 0|0 0]  [-------+-------]\n",
       "[0 0|0 1|0 0|0 0]  [0 0|0 1|0 0|0 0]  [0 0 0 0|1 0 0 0]\n",
       "[---+---+---+---]  [---+---+---+---]  [0 0 0 0|0 0 1 0]\n",
       "[0 0|0 0|0 0|1 0]  [0 0|0 0|0 0|1 0]  [0 0 0 0|0 1 0 0]\n",
       "[0 0|0 0|0 0|0 1], [0 0|0 0|0 0|0 1], [0 0 0 0|0 0 0 1],\n",
       "\n",
       "[  1   0   0   0|  0   0   0   0]\n",
       "[  0   1   0   0|  0   0   0   0]\n",
       "[  0   0 u11 u12|  0   0   0   0]\n",
       "[  0   0 u21 u22|  0   0   0   0]\n",
       "[---------------+---------------]\n",
       "[  0   0   0   0|  1   0   0   0]\n",
       "[  0   0   0   0|  0   1   0   0]\n",
       "[  0   0   0   0|  0   0 u11 u12]\n",
       "[  0   0   0   0|  0   0 u21 u22]\n",
       ")"
      ]
     },
     "execution_count": 23,
     "metadata": {},
     "output_type": "execute_result"
    }
   ],
   "source": [
    "Q =S.tensor_product(I)\n",
    "Q_dagger=S.tensor_product(I)\n",
    "W  = I.tensor_product(S) \n",
    "P  = I.tensor_product(C_u)\n",
    "Q,Q_dagger,W,P"
   ]
  },
  {
   "cell_type": "code",
   "execution_count": 24,
   "metadata": {
    "collapsed": false,
    "deletable": true,
    "editable": true
   },
   "outputs": [
    {
     "data": {
      "text/html": [
       "<html><script type=\"math/tex; mode=display\">\\newcommand{\\Bold}[1]{\\mathbf{#1}}\\left(\\left(\\begin{array}{rrrrrrrr}\n",
       "1 & 0 & 0 & 0 & 0 & 0 & 0 & 0 \\\\\n",
       "0 & 1 & 0 & 0 & 0 & 0 & 0 & 0 \\\\\n",
       "0 & 0 & 1 & 0 & 0 & 0 & 0 & 0 \\\\\n",
       "0 & 0 & 0 & 1 & 0 & 0 & 0 & 0 \\\\\n",
       "0 & 0 & 0 & 0 & u_{11} & u_{12} & 0 & 0 \\\\\n",
       "0 & 0 & 0 & 0 & u_{21} & u_{22} & 0 & 0 \\\\\n",
       "0 & 0 & 0 & 0 & 0 & 0 & u_{11} & u_{12} \\\\\n",
       "0 & 0 & 0 & 0 & 0 & 0 & u_{21} & u_{22}\n",
       "\\end{array}\\right), \\left(\\begin{array}{rrrrrrrr}\n",
       "1 & 0 & 0 & 0 & 0 & 0 & 0 & 0 \\\\\n",
       "0 & u_{11} & 0 & 0 & 0 & u_{12} & 0 & 0 \\\\\n",
       "0 & 0 & 1 & 0 & 0 & 0 & 0 & 0 \\\\\n",
       "0 & 0 & 0 & u_{11} & 0 & 0 & 0 & u_{12} \\\\\n",
       "0 & 0 & 0 & 0 & 1 & 0 & 0 & 0 \\\\\n",
       "0 & u_{21} & 0 & 0 & 0 & u_{22} & 0 & 0 \\\\\n",
       "0 & 0 & 0 & 0 & 0 & 0 & 1 & 0 \\\\\n",
       "0 & 0 & 0 & u_{21} & 0 & 0 & 0 & u_{22}\n",
       "\\end{array}\\right)\\right)</script></html>"
      ],
      "text/plain": [
       "(\n",
       "[  1   0   0   0   0   0   0   0]  [  1   0   0   0   0   0   0   0]\n",
       "[  0   1   0   0   0   0   0   0]  [  0 u11   0   0   0 u12   0   0]\n",
       "[  0   0   1   0   0   0   0   0]  [  0   0   1   0   0   0   0   0]\n",
       "[  0   0   0   1   0   0   0   0]  [  0   0   0 u11   0   0   0 u12]\n",
       "[  0   0   0   0 u11 u12   0   0]  [  0   0   0   0   1   0   0   0]\n",
       "[  0   0   0   0 u21 u22   0   0]  [  0 u21   0   0   0 u22   0   0]\n",
       "[  0   0   0   0   0   0 u11 u12]  [  0   0   0   0   0   0   1   0]\n",
       "[  0   0   0   0   0   0 u21 u22], [  0   0   0 u21   0   0   0 u22]\n",
       ")"
      ]
     },
     "execution_count": 24,
     "metadata": {},
     "output_type": "execute_result"
    }
   ],
   "source": [
    "C_u3  = Q_dagger * P * Q\n",
    "CC_u3 = Q_dagger * W * P * W * Q\n",
    "C_u3, CC_u3"
   ]
  },
  {
   "cell_type": "code",
   "execution_count": 25,
   "metadata": {
    "collapsed": false,
    "deletable": true,
    "editable": true
   },
   "outputs": [
    {
     "data": {
      "text/html": [
       "<html><script type=\"math/tex; mode=display\">\\newcommand{\\Bold}[1]{\\mathbf{#1}}\\left(\\begin{array}{r}\n",
       "q_{00} q_{10} q_{20} \\\\\n",
       "q_{00} q_{10} q_{21} \\\\\n",
       "q_{00} q_{11} q_{20} \\\\\n",
       "q_{00} q_{11} q_{21} \\\\\n",
       "q_{01} q_{10} q_{20} u_{11} + q_{01} q_{10} q_{21} u_{12} \\\\\n",
       "q_{01} q_{10} q_{20} u_{21} + q_{01} q_{10} q_{21} u_{22} \\\\\n",
       "q_{01} q_{11} q_{20} u_{11} + q_{01} q_{11} q_{21} u_{12} \\\\\n",
       "q_{01} q_{11} q_{20} u_{21} + q_{01} q_{11} q_{21} u_{22}\n",
       "\\end{array}\\right)</script></html>"
      ],
      "text/plain": [
       "[                      q00*q10*q20]\n",
       "[                      q00*q10*q21]\n",
       "[                      q00*q11*q20]\n",
       "[                      q00*q11*q21]\n",
       "[q01*q10*q20*u11 + q01*q10*q21*u12]\n",
       "[q01*q10*q20*u21 + q01*q10*q21*u22]\n",
       "[q01*q11*q20*u11 + q01*q11*q21*u12]\n",
       "[q01*q11*q20*u21 + q01*q11*q21*u22]"
      ]
     },
     "execution_count": 25,
     "metadata": {},
     "output_type": "execute_result"
    }
   ],
   "source": [
    "C_u3*q"
   ]
  },
  {
   "cell_type": "code",
   "execution_count": 26,
   "metadata": {
    "collapsed": false,
    "deletable": true,
    "editable": true
   },
   "outputs": [
    {
     "data": {
      "text/html": [
       "<html><script type=\"math/tex; mode=display\">\\newcommand{\\Bold}[1]{\\mathbf{#1}}\\left(\\begin{array}{r}\n",
       "q_{00} q_{10} q_{20} \\\\\n",
       "q_{00} q_{10} q_{21} u_{11} + q_{01} q_{10} q_{21} u_{12} \\\\\n",
       "q_{00} q_{11} q_{20} \\\\\n",
       "q_{00} q_{11} q_{21} u_{11} + q_{01} q_{11} q_{21} u_{12} \\\\\n",
       "q_{01} q_{10} q_{20} \\\\\n",
       "q_{00} q_{10} q_{21} u_{21} + q_{01} q_{10} q_{21} u_{22} \\\\\n",
       "q_{01} q_{11} q_{20} \\\\\n",
       "q_{00} q_{11} q_{21} u_{21} + q_{01} q_{11} q_{21} u_{22}\n",
       "\\end{array}\\right)</script></html>"
      ],
      "text/plain": [
       "[                      q00*q10*q20]\n",
       "[q00*q10*q21*u11 + q01*q10*q21*u12]\n",
       "[                      q00*q11*q20]\n",
       "[q00*q11*q21*u11 + q01*q11*q21*u12]\n",
       "[                      q01*q10*q20]\n",
       "[q00*q10*q21*u21 + q01*q10*q21*u22]\n",
       "[                      q01*q11*q20]\n",
       "[q00*q11*q21*u21 + q01*q11*q21*u22]"
      ]
     },
     "execution_count": 26,
     "metadata": {},
     "output_type": "execute_result"
    }
   ],
   "source": [
    "CC_u3*q"
   ]
  },
  {
   "cell_type": "markdown",
   "metadata": {
    "deletable": true,
    "editable": true
   },
   "source": [
    "## Consider the case n=4 "
   ]
  },
  {
   "cell_type": "markdown",
   "metadata": {
    "deletable": true,
    "editable": true
   },
   "source": [
    "For the n=4 case we have :\n",
    "\n",
    "$Q = \\displaystyle{\\prod_{k=1}^{2}} \\;\\; I^{2-k} \\otimes S \\otimes I^{k} = (I \\otimes S \\otimes I)\\times(S \\otimes I^2)$ \n",
    "\n",
    "$Q^{\\dagger} = (S \\otimes I^2) \\times (I \\otimes S \\otimes I)$\n",
    "\n",
    "$P = I^2 \\otimes C_u$\n",
    "\n",
    "$W = I^2 \\otimes S$\n",
    "\n",
    "so that :\n",
    "\n",
    "$\\bar{C}_{u,4} = Q^{\\dagger} \\times P \\times Q = (S \\otimes I^2) \\times (I \\otimes S \\otimes I) \\times (I^2 \\otimes C_u) \\times (I \\otimes S \\otimes I)\\times(S \\otimes I^2)$\n",
    "\n",
    "$\\tilde{C}_{u,4} = Q^{\\dagger} \\times W \\times P \\times W \\times Q = (S \\otimes I^2) \\times (I \\otimes S \\otimes I)\\times (I^2 \\otimes S) \\times (I^2 \\otimes C_u) \\times (I^2 \\otimes S) \\times (I \\otimes S \\otimes I)\\times(S \\otimes I^2)$"
   ]
  },
  {
   "cell_type": "code",
   "execution_count": 27,
   "metadata": {
    "collapsed": false,
    "deletable": true,
    "editable": true
   },
   "outputs": [
    {
     "data": {
      "text/html": [
       "<html><script type=\"math/tex; mode=display\">\\newcommand{\\Bold}[1]{\\mathbf{#1}}\\left(\\left(\\begin{array}{rrrrrrrrrrrrrrrr}\n",
       "1 & 0 & 0 & 0 & 0 & 0 & 0 & 0 & 0 & 0 & 0 & 0 & 0 & 0 & 0 & 0 \\\\\n",
       "0 & 1 & 0 & 0 & 0 & 0 & 0 & 0 & 0 & 0 & 0 & 0 & 0 & 0 & 0 & 0 \\\\\n",
       "0 & 0 & 1 & 0 & 0 & 0 & 0 & 0 & 0 & 0 & 0 & 0 & 0 & 0 & 0 & 0 \\\\\n",
       "0 & 0 & 0 & 1 & 0 & 0 & 0 & 0 & 0 & 0 & 0 & 0 & 0 & 0 & 0 & 0 \\\\\n",
       "0 & 0 & 0 & 0 & 1 & 0 & 0 & 0 & 0 & 0 & 0 & 0 & 0 & 0 & 0 & 0 \\\\\n",
       "0 & 0 & 0 & 0 & 0 & 1 & 0 & 0 & 0 & 0 & 0 & 0 & 0 & 0 & 0 & 0 \\\\\n",
       "0 & 0 & 0 & 0 & 0 & 0 & 1 & 0 & 0 & 0 & 0 & 0 & 0 & 0 & 0 & 0 \\\\\n",
       "0 & 0 & 0 & 0 & 0 & 0 & 0 & 1 & 0 & 0 & 0 & 0 & 0 & 0 & 0 & 0 \\\\\n",
       "0 & 0 & 0 & 0 & 0 & 0 & 0 & 0 & u_{11} & u_{12} & 0 & 0 & 0 & 0 & 0 & 0 \\\\\n",
       "0 & 0 & 0 & 0 & 0 & 0 & 0 & 0 & u_{21} & u_{22} & 0 & 0 & 0 & 0 & 0 & 0 \\\\\n",
       "0 & 0 & 0 & 0 & 0 & 0 & 0 & 0 & 0 & 0 & u_{11} & u_{12} & 0 & 0 & 0 & 0 \\\\\n",
       "0 & 0 & 0 & 0 & 0 & 0 & 0 & 0 & 0 & 0 & u_{21} & u_{22} & 0 & 0 & 0 & 0 \\\\\n",
       "0 & 0 & 0 & 0 & 0 & 0 & 0 & 0 & 0 & 0 & 0 & 0 & u_{11} & u_{12} & 0 & 0 \\\\\n",
       "0 & 0 & 0 & 0 & 0 & 0 & 0 & 0 & 0 & 0 & 0 & 0 & u_{21} & u_{22} & 0 & 0 \\\\\n",
       "0 & 0 & 0 & 0 & 0 & 0 & 0 & 0 & 0 & 0 & 0 & 0 & 0 & 0 & u_{11} & u_{12} \\\\\n",
       "0 & 0 & 0 & 0 & 0 & 0 & 0 & 0 & 0 & 0 & 0 & 0 & 0 & 0 & u_{21} & u_{22}\n",
       "\\end{array}\\right), \\left(\\begin{array}{rrrrrrrrrrrrrrrr}\n",
       "1 & 0 & 0 & 0 & 0 & 0 & 0 & 0 & 0 & 0 & 0 & 0 & 0 & 0 & 0 & 0 \\\\\n",
       "0 & u_{11} & 0 & 0 & 0 & 0 & 0 & 0 & 0 & u_{12} & 0 & 0 & 0 & 0 & 0 & 0 \\\\\n",
       "0 & 0 & 1 & 0 & 0 & 0 & 0 & 0 & 0 & 0 & 0 & 0 & 0 & 0 & 0 & 0 \\\\\n",
       "0 & 0 & 0 & u_{11} & 0 & 0 & 0 & 0 & 0 & 0 & 0 & u_{12} & 0 & 0 & 0 & 0 \\\\\n",
       "0 & 0 & 0 & 0 & 1 & 0 & 0 & 0 & 0 & 0 & 0 & 0 & 0 & 0 & 0 & 0 \\\\\n",
       "0 & 0 & 0 & 0 & 0 & u_{11} & 0 & 0 & 0 & 0 & 0 & 0 & 0 & u_{12} & 0 & 0 \\\\\n",
       "0 & 0 & 0 & 0 & 0 & 0 & 1 & 0 & 0 & 0 & 0 & 0 & 0 & 0 & 0 & 0 \\\\\n",
       "0 & 0 & 0 & 0 & 0 & 0 & 0 & u_{11} & 0 & 0 & 0 & 0 & 0 & 0 & 0 & u_{12} \\\\\n",
       "0 & 0 & 0 & 0 & 0 & 0 & 0 & 0 & 1 & 0 & 0 & 0 & 0 & 0 & 0 & 0 \\\\\n",
       "0 & u_{21} & 0 & 0 & 0 & 0 & 0 & 0 & 0 & u_{22} & 0 & 0 & 0 & 0 & 0 & 0 \\\\\n",
       "0 & 0 & 0 & 0 & 0 & 0 & 0 & 0 & 0 & 0 & 1 & 0 & 0 & 0 & 0 & 0 \\\\\n",
       "0 & 0 & 0 & u_{21} & 0 & 0 & 0 & 0 & 0 & 0 & 0 & u_{22} & 0 & 0 & 0 & 0 \\\\\n",
       "0 & 0 & 0 & 0 & 0 & 0 & 0 & 0 & 0 & 0 & 0 & 0 & 1 & 0 & 0 & 0 \\\\\n",
       "0 & 0 & 0 & 0 & 0 & u_{21} & 0 & 0 & 0 & 0 & 0 & 0 & 0 & u_{22} & 0 & 0 \\\\\n",
       "0 & 0 & 0 & 0 & 0 & 0 & 0 & 0 & 0 & 0 & 0 & 0 & 0 & 0 & 1 & 0 \\\\\n",
       "0 & 0 & 0 & 0 & 0 & 0 & 0 & u_{21} & 0 & 0 & 0 & 0 & 0 & 0 & 0 & u_{22}\n",
       "\\end{array}\\right)\\right)</script></html>"
      ],
      "text/plain": [
       "(\n",
       "[  1   0   0   0   0   0   0   0   0   0   0   0   0   0   0   0]\n",
       "[  0   1   0   0   0   0   0   0   0   0   0   0   0   0   0   0]\n",
       "[  0   0   1   0   0   0   0   0   0   0   0   0   0   0   0   0]\n",
       "[  0   0   0   1   0   0   0   0   0   0   0   0   0   0   0   0]\n",
       "[  0   0   0   0   1   0   0   0   0   0   0   0   0   0   0   0]\n",
       "[  0   0   0   0   0   1   0   0   0   0   0   0   0   0   0   0]\n",
       "[  0   0   0   0   0   0   1   0   0   0   0   0   0   0   0   0]\n",
       "[  0   0   0   0   0   0   0   1   0   0   0   0   0   0   0   0]\n",
       "[  0   0   0   0   0   0   0   0 u11 u12   0   0   0   0   0   0]\n",
       "[  0   0   0   0   0   0   0   0 u21 u22   0   0   0   0   0   0]\n",
       "[  0   0   0   0   0   0   0   0   0   0 u11 u12   0   0   0   0]\n",
       "[  0   0   0   0   0   0   0   0   0   0 u21 u22   0   0   0   0]\n",
       "[  0   0   0   0   0   0   0   0   0   0   0   0 u11 u12   0   0]\n",
       "[  0   0   0   0   0   0   0   0   0   0   0   0 u21 u22   0   0]\n",
       "[  0   0   0   0   0   0   0   0   0   0   0   0   0   0 u11 u12]\n",
       "[  0   0   0   0   0   0   0   0   0   0   0   0   0   0 u21 u22],\n",
       "\n",
       "[  1   0   0   0   0   0   0   0   0   0   0   0   0   0   0   0]\n",
       "[  0 u11   0   0   0   0   0   0   0 u12   0   0   0   0   0   0]\n",
       "[  0   0   1   0   0   0   0   0   0   0   0   0   0   0   0   0]\n",
       "[  0   0   0 u11   0   0   0   0   0   0   0 u12   0   0   0   0]\n",
       "[  0   0   0   0   1   0   0   0   0   0   0   0   0   0   0   0]\n",
       "[  0   0   0   0   0 u11   0   0   0   0   0   0   0 u12   0   0]\n",
       "[  0   0   0   0   0   0   1   0   0   0   0   0   0   0   0   0]\n",
       "[  0   0   0   0   0   0   0 u11   0   0   0   0   0   0   0 u12]\n",
       "[  0   0   0   0   0   0   0   0   1   0   0   0   0   0   0   0]\n",
       "[  0 u21   0   0   0   0   0   0   0 u22   0   0   0   0   0   0]\n",
       "[  0   0   0   0   0   0   0   0   0   0   1   0   0   0   0   0]\n",
       "[  0   0   0 u21   0   0   0   0   0   0   0 u22   0   0   0   0]\n",
       "[  0   0   0   0   0   0   0   0   0   0   0   0   1   0   0   0]\n",
       "[  0   0   0   0   0 u21   0   0   0   0   0   0   0 u22   0   0]\n",
       "[  0   0   0   0   0   0   0   0   0   0   0   0   0   0   1   0]\n",
       "[  0   0   0   0   0   0   0 u21   0   0   0   0   0   0   0 u22]\n",
       ")"
      ]
     },
     "execution_count": 27,
     "metadata": {},
     "output_type": "execute_result"
    }
   ],
   "source": [
    "#S * I^2\n",
    "a = S.tensor_product(matrix.identity(2)).tensor_product(matrix.identity(2))\n",
    "\n",
    "#I * S * I\n",
    "\n",
    "b = matrix.identity(2).tensor_product(S).tensor_product(matrix.identity(2))\n",
    "\n",
    "# I^2 * S\n",
    "w = matrix.identity(2).tensor_product(matrix.identity(2)).tensor_product(S)\n",
    "\n",
    "# I^2 * C_u\n",
    "\n",
    "p = matrix.identity(2).tensor_product(matrix.identity(2)).tensor_product(C_u)\n",
    "\n",
    "C_u4 = a * b * p * b * a\n",
    "\n",
    "CC_u4 = a * b * w * p * w * b * a\n",
    "\n",
    "C_u4, CC_u4"
   ]
  },
  {
   "cell_type": "code",
   "execution_count": 28,
   "metadata": {
    "collapsed": false,
    "deletable": true,
    "editable": true
   },
   "outputs": [
    {
     "data": {
      "text/html": [
       "<html><script type=\"math/tex; mode=display\">\\newcommand{\\Bold}[1]{\\mathbf{#1}}\\left(\\begin{array}{r}\n",
       "q_{00} q_{10} q_{20} q_{30} \\\\\n",
       "q_{00} q_{10} q_{20} q_{31} \\\\\n",
       "\\hline\n",
       " q_{00} q_{10} q_{21} q_{30} \\\\\n",
       "q_{00} q_{10} q_{21} q_{31} \\\\\n",
       "\\hline\n",
       " q_{00} q_{11} q_{20} q_{30} \\\\\n",
       "q_{00} q_{11} q_{20} q_{31} \\\\\n",
       "\\hline\n",
       " q_{00} q_{11} q_{21} q_{30} \\\\\n",
       "q_{00} q_{11} q_{21} q_{31} \\\\\n",
       "\\hline\n",
       " q_{01} q_{10} q_{20} q_{30} \\\\\n",
       "q_{01} q_{10} q_{20} q_{31} \\\\\n",
       "\\hline\n",
       " q_{01} q_{10} q_{21} q_{30} \\\\\n",
       "q_{01} q_{10} q_{21} q_{31} \\\\\n",
       "\\hline\n",
       " q_{01} q_{11} q_{20} q_{30} \\\\\n",
       "q_{01} q_{11} q_{20} q_{31} \\\\\n",
       "\\hline\n",
       " q_{01} q_{11} q_{21} q_{30} \\\\\n",
       "q_{01} q_{11} q_{21} q_{31}\n",
       "\\end{array}\\right)</script></html>"
      ],
      "text/plain": [
       "[q00*q10*q20*q30]\n",
       "[q00*q10*q20*q31]\n",
       "[---------------]\n",
       "[q00*q10*q21*q30]\n",
       "[q00*q10*q21*q31]\n",
       "[---------------]\n",
       "[q00*q11*q20*q30]\n",
       "[q00*q11*q20*q31]\n",
       "[---------------]\n",
       "[q00*q11*q21*q30]\n",
       "[q00*q11*q21*q31]\n",
       "[---------------]\n",
       "[q01*q10*q20*q30]\n",
       "[q01*q10*q20*q31]\n",
       "[---------------]\n",
       "[q01*q10*q21*q30]\n",
       "[q01*q10*q21*q31]\n",
       "[---------------]\n",
       "[q01*q11*q20*q30]\n",
       "[q01*q11*q20*q31]\n",
       "[---------------]\n",
       "[q01*q11*q21*q30]\n",
       "[q01*q11*q21*q31]"
      ]
     },
     "execution_count": 28,
     "metadata": {},
     "output_type": "execute_result"
    }
   ],
   "source": [
    "q30,q31=var('q30,q31')\n",
    "q3=matrix([[q30],[q31]])\n",
    "q=q0.tensor_product(q1).tensor_product(q2).tensor_product(q3)\n",
    "q"
   ]
  },
  {
   "cell_type": "code",
   "execution_count": 29,
   "metadata": {
    "collapsed": false,
    "deletable": true,
    "editable": true
   },
   "outputs": [
    {
     "data": {
      "text/html": [
       "<html><script type=\"math/tex; mode=display\">\\newcommand{\\Bold}[1]{\\mathbf{#1}}\\left(\\begin{array}{r}\n",
       "q_{00} q_{10} q_{20} q_{30} \\\\\n",
       "q_{00} q_{10} q_{20} q_{31} \\\\\n",
       "q_{00} q_{10} q_{21} q_{30} \\\\\n",
       "q_{00} q_{10} q_{21} q_{31} \\\\\n",
       "q_{00} q_{11} q_{20} q_{30} \\\\\n",
       "q_{00} q_{11} q_{20} q_{31} \\\\\n",
       "q_{00} q_{11} q_{21} q_{30} \\\\\n",
       "q_{00} q_{11} q_{21} q_{31} \\\\\n",
       "q_{01} q_{10} q_{20} q_{30} u_{11} + q_{01} q_{10} q_{20} q_{31} u_{12} \\\\\n",
       "q_{01} q_{10} q_{20} q_{30} u_{21} + q_{01} q_{10} q_{20} q_{31} u_{22} \\\\\n",
       "q_{01} q_{10} q_{21} q_{30} u_{11} + q_{01} q_{10} q_{21} q_{31} u_{12} \\\\\n",
       "q_{01} q_{10} q_{21} q_{30} u_{21} + q_{01} q_{10} q_{21} q_{31} u_{22} \\\\\n",
       "q_{01} q_{11} q_{20} q_{30} u_{11} + q_{01} q_{11} q_{20} q_{31} u_{12} \\\\\n",
       "q_{01} q_{11} q_{20} q_{30} u_{21} + q_{01} q_{11} q_{20} q_{31} u_{22} \\\\\n",
       "q_{01} q_{11} q_{21} q_{30} u_{11} + q_{01} q_{11} q_{21} q_{31} u_{12} \\\\\n",
       "q_{01} q_{11} q_{21} q_{30} u_{21} + q_{01} q_{11} q_{21} q_{31} u_{22}\n",
       "\\end{array}\\right)</script></html>"
      ],
      "text/plain": [
       "[                          q00*q10*q20*q30]\n",
       "[                          q00*q10*q20*q31]\n",
       "[                          q00*q10*q21*q30]\n",
       "[                          q00*q10*q21*q31]\n",
       "[                          q00*q11*q20*q30]\n",
       "[                          q00*q11*q20*q31]\n",
       "[                          q00*q11*q21*q30]\n",
       "[                          q00*q11*q21*q31]\n",
       "[q01*q10*q20*q30*u11 + q01*q10*q20*q31*u12]\n",
       "[q01*q10*q20*q30*u21 + q01*q10*q20*q31*u22]\n",
       "[q01*q10*q21*q30*u11 + q01*q10*q21*q31*u12]\n",
       "[q01*q10*q21*q30*u21 + q01*q10*q21*q31*u22]\n",
       "[q01*q11*q20*q30*u11 + q01*q11*q20*q31*u12]\n",
       "[q01*q11*q20*q30*u21 + q01*q11*q20*q31*u22]\n",
       "[q01*q11*q21*q30*u11 + q01*q11*q21*q31*u12]\n",
       "[q01*q11*q21*q30*u21 + q01*q11*q21*q31*u22]"
      ]
     },
     "execution_count": 29,
     "metadata": {},
     "output_type": "execute_result"
    }
   ],
   "source": [
    "C_u4*q"
   ]
  },
  {
   "cell_type": "code",
   "execution_count": 30,
   "metadata": {
    "collapsed": false,
    "deletable": true,
    "editable": true
   },
   "outputs": [
    {
     "data": {
      "text/html": [
       "<html><script type=\"math/tex; mode=display\">\\newcommand{\\Bold}[1]{\\mathbf{#1}}\\left(\\begin{array}{r}\n",
       "q_{00} q_{10} q_{20} q_{30} \\\\\n",
       "q_{00} q_{10} q_{20} q_{31} u_{11} + q_{01} q_{10} q_{20} q_{31} u_{12} \\\\\n",
       "q_{00} q_{10} q_{21} q_{30} \\\\\n",
       "q_{00} q_{10} q_{21} q_{31} u_{11} + q_{01} q_{10} q_{21} q_{31} u_{12} \\\\\n",
       "q_{00} q_{11} q_{20} q_{30} \\\\\n",
       "q_{00} q_{11} q_{20} q_{31} u_{11} + q_{01} q_{11} q_{20} q_{31} u_{12} \\\\\n",
       "q_{00} q_{11} q_{21} q_{30} \\\\\n",
       "q_{00} q_{11} q_{21} q_{31} u_{11} + q_{01} q_{11} q_{21} q_{31} u_{12} \\\\\n",
       "q_{01} q_{10} q_{20} q_{30} \\\\\n",
       "q_{00} q_{10} q_{20} q_{31} u_{21} + q_{01} q_{10} q_{20} q_{31} u_{22} \\\\\n",
       "q_{01} q_{10} q_{21} q_{30} \\\\\n",
       "q_{00} q_{10} q_{21} q_{31} u_{21} + q_{01} q_{10} q_{21} q_{31} u_{22} \\\\\n",
       "q_{01} q_{11} q_{20} q_{30} \\\\\n",
       "q_{00} q_{11} q_{20} q_{31} u_{21} + q_{01} q_{11} q_{20} q_{31} u_{22} \\\\\n",
       "q_{01} q_{11} q_{21} q_{30} \\\\\n",
       "q_{00} q_{11} q_{21} q_{31} u_{21} + q_{01} q_{11} q_{21} q_{31} u_{22}\n",
       "\\end{array}\\right)</script></html>"
      ],
      "text/plain": [
       "[                          q00*q10*q20*q30]\n",
       "[q00*q10*q20*q31*u11 + q01*q10*q20*q31*u12]\n",
       "[                          q00*q10*q21*q30]\n",
       "[q00*q10*q21*q31*u11 + q01*q10*q21*q31*u12]\n",
       "[                          q00*q11*q20*q30]\n",
       "[q00*q11*q20*q31*u11 + q01*q11*q20*q31*u12]\n",
       "[                          q00*q11*q21*q30]\n",
       "[q00*q11*q21*q31*u11 + q01*q11*q21*q31*u12]\n",
       "[                          q01*q10*q20*q30]\n",
       "[q00*q10*q20*q31*u21 + q01*q10*q20*q31*u22]\n",
       "[                          q01*q10*q21*q30]\n",
       "[q00*q10*q21*q31*u21 + q01*q10*q21*q31*u22]\n",
       "[                          q01*q11*q20*q30]\n",
       "[q00*q11*q20*q31*u21 + q01*q11*q20*q31*u22]\n",
       "[                          q01*q11*q21*q30]\n",
       "[q00*q11*q21*q31*u21 + q01*q11*q21*q31*u22]"
      ]
     },
     "execution_count": 30,
     "metadata": {},
     "output_type": "execute_result"
    }
   ],
   "source": [
    "CC_u4 * q"
   ]
  },
  {
   "cell_type": "code",
   "execution_count": 31,
   "metadata": {
    "collapsed": false,
    "deletable": true,
    "editable": true
   },
   "outputs": [
    {
     "data": {
      "text/html": [
       "<html><script type=\"math/tex; mode=display\">\\newcommand{\\Bold}[1]{\\mathbf{#1}}\\left(\\begin{array}{r}\n",
       "0 \\\\\n",
       "0 \\\\\n",
       "0 \\\\\n",
       "0 \\\\\n",
       "0 \\\\\n",
       "0 \\\\\n",
       "0 \\\\\n",
       "0 \\\\\n",
       "q_{10} q_{20} \\\\\n",
       "q_{10} q_{20} q_{31} \\\\\n",
       "q_{10} q_{21} \\\\\n",
       "q_{10} q_{21} q_{31} \\\\\n",
       "q_{11} q_{20} \\\\\n",
       "q_{11} q_{20} q_{31} \\\\\n",
       "q_{11} q_{21} \\\\\n",
       "q_{11} q_{21} q_{31}\n",
       "\\end{array}\\right)</script></html>"
      ],
      "text/plain": [
       "[          0]\n",
       "[          0]\n",
       "[          0]\n",
       "[          0]\n",
       "[          0]\n",
       "[          0]\n",
       "[          0]\n",
       "[          0]\n",
       "[    q10*q20]\n",
       "[q10*q20*q31]\n",
       "[    q10*q21]\n",
       "[q10*q21*q31]\n",
       "[    q11*q20]\n",
       "[q11*q20*q31]\n",
       "[    q11*q21]\n",
       "[q11*q21*q31]"
      ]
     },
     "execution_count": 31,
     "metadata": {},
     "output_type": "execute_result"
    }
   ],
   "source": [
    "q.substitute(q00=0,q01=1,q30=1)"
   ]
  },
  {
   "cell_type": "code",
   "execution_count": 32,
   "metadata": {
    "collapsed": false,
    "deletable": true,
    "editable": true
   },
   "outputs": [
    {
     "data": {
      "text/html": [
       "<html><script type=\"math/tex; mode=display\">\\newcommand{\\Bold}[1]{\\mathbf{#1}}\\left(\\left(\\begin{array}{r}\n",
       "0 \\\\\n",
       "0 \\\\\n",
       "0 \\\\\n",
       "0 \\\\\n",
       "0 \\\\\n",
       "0 \\\\\n",
       "0 \\\\\n",
       "0 \\\\\n",
       "0 \\\\\n",
       "0 \\\\\n",
       "0 \\\\\n",
       "0 \\\\\n",
       "0 \\\\\n",
       "0 \\\\\n",
       "1 \\\\\n",
       "0\n",
       "\\end{array}\\right), \\left(\\begin{array}{r}\n",
       "0 \\\\\n",
       "0 \\\\\n",
       "0 \\\\\n",
       "0 \\\\\n",
       "0 \\\\\n",
       "0 \\\\\n",
       "0 \\\\\n",
       "0 \\\\\n",
       "0 \\\\\n",
       "0 \\\\\n",
       "0 \\\\\n",
       "0 \\\\\n",
       "0 \\\\\n",
       "0 \\\\\n",
       "u_{11} \\\\\n",
       "u_{21}\n",
       "\\end{array}\\right)\\right)</script></html>"
      ],
      "text/plain": [
       "(\n",
       "[0]  [  0]\n",
       "[0]  [  0]\n",
       "[0]  [  0]\n",
       "[0]  [  0]\n",
       "[0]  [  0]\n",
       "[0]  [  0]\n",
       "[0]  [  0]\n",
       "[0]  [  0]\n",
       "[0]  [  0]\n",
       "[0]  [  0]\n",
       "[0]  [  0]\n",
       "[0]  [  0]\n",
       "[0]  [  0]\n",
       "[0]  [  0]\n",
       "[1]  [u11]\n",
       "[0], [u21]\n",
       ")"
      ]
     },
     "execution_count": 32,
     "metadata": {},
     "output_type": "execute_result"
    }
   ],
   "source": [
    "qq=q.substitute(q00=0,q01=1,  q10=0, q11=1, q20=0,q21=1, q30=1, q31=0)\n",
    "qq, C_u4 * qq"
   ]
  },
  {
   "cell_type": "code",
   "execution_count": 33,
   "metadata": {
    "collapsed": false,
    "deletable": true,
    "editable": true
   },
   "outputs": [
    {
     "data": {
      "text/html": [
       "<html><script type=\"math/tex; mode=display\">\\newcommand{\\Bold}[1]{\\mathbf{#1}}\\left(\\left(\\begin{array}{r}\n",
       "0 \\\\\n",
       "0 \\\\\n",
       "0 \\\\\n",
       "0 \\\\\n",
       "0 \\\\\n",
       "0 \\\\\n",
       "0 \\\\\n",
       "1 \\\\\n",
       "0 \\\\\n",
       "0 \\\\\n",
       "0 \\\\\n",
       "0 \\\\\n",
       "0 \\\\\n",
       "0 \\\\\n",
       "0 \\\\\n",
       "0\n",
       "\\end{array}\\right), \\left(\\begin{array}{r}\n",
       "0 \\\\\n",
       "0 \\\\\n",
       "0 \\\\\n",
       "0 \\\\\n",
       "0 \\\\\n",
       "0 \\\\\n",
       "0 \\\\\n",
       "u_{11} \\\\\n",
       "0 \\\\\n",
       "0 \\\\\n",
       "0 \\\\\n",
       "0 \\\\\n",
       "0 \\\\\n",
       "0 \\\\\n",
       "0 \\\\\n",
       "u_{21}\n",
       "\\end{array}\\right)\\right)</script></html>"
      ],
      "text/plain": [
       "(\n",
       "[0]  [  0]\n",
       "[0]  [  0]\n",
       "[0]  [  0]\n",
       "[0]  [  0]\n",
       "[0]  [  0]\n",
       "[0]  [  0]\n",
       "[0]  [  0]\n",
       "[1]  [u11]\n",
       "[0]  [  0]\n",
       "[0]  [  0]\n",
       "[0]  [  0]\n",
       "[0]  [  0]\n",
       "[0]  [  0]\n",
       "[0]  [  0]\n",
       "[0]  [  0]\n",
       "[0], [u21]\n",
       ")"
      ]
     },
     "execution_count": 33,
     "metadata": {},
     "output_type": "execute_result"
    }
   ],
   "source": [
    "qq=q.substitute(q00=1,q01=0,  q10=0, q11=1, q20=0,q21=1, q30=0, q31=1)\n",
    "qq, CC_u4 * qq"
   ]
  },
  {
   "cell_type": "markdown",
   "metadata": {
    "deletable": true,
    "editable": true
   },
   "source": [
    "# Application : Quantum Risk Analysis"
   ]
  },
  {
   "cell_type": "markdown",
   "metadata": {
    "deletable": true,
    "editable": true
   },
   "source": [
    "This is an analysis of arxiv:1806.06893v1 / Quantum Risk Analysis ; S. Woerner and D.J. Egger"
   ]
  },
  {
   "cell_type": "markdown",
   "metadata": {
    "deletable": true,
    "editable": true
   },
   "source": [
    "The basic circuit is an amplitude estimation circuit of a unitary operator $\\mathscr A$.\n",
    "\n",
    "Below I deal specifically with *section IV : T-Bill on a single period binomial tree*."
   ]
  },
  {
   "cell_type": "markdown",
   "metadata": {
    "deletable": true,
    "editable": true
   },
   "source": [
    "We have the following operators :\n",
    "\n",
    "$\\mathscr{A} = R_y(\\theta_p)$ where $R_y(\\theta) = \\exp ^{-i \\frac{\\theta}{2} Y}$ with $Y = \\begin{bmatrix} 0 & -i \\\\ i & 0 \\end{bmatrix}$ the Y Pauli-matrix and $e^{i \\theta A} = \\cos{\\theta} \\times I + \\sin(\\theta) \\times A$.\n",
    "\n",
    "\n",
    "This can be expanded to \n",
    "$R_y(\\theta_p)= \\begin{bmatrix} \\cos(\\frac{\\theta}{2}) & -\\sin(\\frac{\\theta}{2}) \\\\ \\sin(\\frac{\\theta}{2}) & \\cos(\\frac{\\theta}{2})  \\end{bmatrix}$\n",
    "\n",
    "$\\mathscr{A} \\; |0>$ is the state whose amplitude we try to measure.\n",
    "\n",
    "The amplitude estimation operator is $U = \\mathscr{A} \\: Z \\: \\mathscr{A}^{\\dagger} \\: Z$ with the Z Pauli matrix $Z = \\begin{bmatrix} 1 & 0 \\\\ 0 & -1 \\end{bmatrix}$. \n",
    "\n",
    "We have $U=R_y(2 \\theta_{p})$ and $U^{2^{j}} = R_y(2^{j+1} \\theta_p)$\n"
   ]
  },
  {
   "cell_type": "markdown",
   "metadata": {
    "deletable": true,
    "editable": true
   },
   "source": [
    "The first half of the circuit is described by the following operator working on the initial qubit state $|q_0q_1q_2q_3> = |0000>$ :\n",
    "\n",
    "$E_1 = \\bar{C}_{u^{4},4} \\times (I \\otimes \\bar{C}_{u^{2},3}) \\times ( I^{\\otimes 2} \\otimes C_u)\\times (H^{\\otimes 3}\\otimes R_y(\\theta_p)) $\n",
    "\n",
    "with $\\bar{C}_{u,n}$ as defined as above and the Hadamard gate $H = \\frac{1}{\\sqrt{2}} \\begin{bmatrix}1&1\\\\1&-1 \\end{bmatrix}$"
   ]
  },
  {
   "cell_type": "markdown",
   "metadata": {
    "deletable": true,
    "editable": true
   },
   "source": [
    "### Hadamard Matrix"
   ]
  },
  {
   "cell_type": "code",
   "execution_count": 34,
   "metadata": {
    "collapsed": false,
    "deletable": true,
    "editable": true
   },
   "outputs": [
    {
     "data": {
      "text/html": [
       "<html><script type=\"math/tex; mode=display\">\\newcommand{\\Bold}[1]{\\mathbf{#1}}\\left(\\begin{array}{rr}\n",
       "\\frac{1}{2} \\, \\sqrt{2} & \\frac{1}{2} \\, \\sqrt{2} \\\\\n",
       "\\frac{1}{2} \\, \\sqrt{2} & -\\frac{1}{2} \\, \\sqrt{2}\n",
       "\\end{array}\\right)</script></html>"
      ],
      "text/plain": [
       "[ 1/2*sqrt(2)  1/2*sqrt(2)]\n",
       "[ 1/2*sqrt(2) -1/2*sqrt(2)]"
      ]
     },
     "execution_count": 34,
     "metadata": {},
     "output_type": "execute_result"
    }
   ],
   "source": [
    "H = 1/sqrt(2)*matrix([[1,1],[1,-1]])\n",
    "H"
   ]
  },
  {
   "cell_type": "markdown",
   "metadata": {
    "deletable": true,
    "editable": true
   },
   "source": [
    "### $R_y(\\theta)$ rotation matrix"
   ]
  },
  {
   "cell_type": "code",
   "execution_count": 35,
   "metadata": {
    "collapsed": false,
    "deletable": true,
    "editable": true
   },
   "outputs": [
    {
     "data": {
      "text/html": [
       "<html><script type=\"math/tex; mode=display\">\\newcommand{\\Bold}[1]{\\mathbf{#1}}\\left(\\begin{array}{rr}\n",
       "\\cos\\left(\\frac{1}{2} \\, \\theta_{p}\\right) & -\\sin\\left(\\frac{1}{2} \\, \\theta_{p}\\right) \\\\\n",
       "\\sin\\left(\\frac{1}{2} \\, \\theta_{p}\\right) & \\cos\\left(\\frac{1}{2} \\, \\theta_{p}\\right)\n",
       "\\end{array}\\right)</script></html>"
      ],
      "text/plain": [
       "[ cos(1/2*theta_p) -sin(1/2*theta_p)]\n",
       "[ sin(1/2*theta_p)  cos(1/2*theta_p)]"
      ]
     },
     "execution_count": 35,
     "metadata": {},
     "output_type": "execute_result"
    }
   ],
   "source": [
    "theta_p,u_power = var('theta_p, u_power')\n",
    "R_y=matrix([[cos(theta_p/2), -sin(theta_p/2)],[sin(theta_p/2), cos(theta_p/2)]])\n",
    "R_y"
   ]
  },
  {
   "cell_type": "markdown",
   "metadata": {
    "deletable": true,
    "editable": true
   },
   "source": [
    "### $Q_n$ operator "
   ]
  },
  {
   "cell_type": "code",
   "execution_count": 36,
   "metadata": {
    "collapsed": false,
    "deletable": true,
    "editable": true
   },
   "outputs": [
    {
     "data": {
      "text/html": [
       "<html><script type=\"math/tex; mode=display\">\\newcommand{\\Bold}[1]{\\mathbf{#1}}\\left(\\begin{array}{rr}\n",
       "\\cos\\left(\\theta_{p} u_{\\mathit{power}}\\right) & -\\sin\\left(\\theta_{p} u_{\\mathit{power}}\\right) \\\\\n",
       "\\sin\\left(\\theta_{p} u_{\\mathit{power}}\\right) & \\cos\\left(\\theta_{p} u_{\\mathit{power}}\\right)\n",
       "\\end{array}\\right)</script></html>"
      ],
      "text/plain": [
       "[ cos(theta_p*u_power) -sin(theta_p*u_power)]\n",
       "[ sin(theta_p*u_power)  cos(theta_p*u_power)]"
      ]
     },
     "execution_count": 36,
     "metadata": {},
     "output_type": "execute_result"
    }
   ],
   "source": [
    "Qn = matrix([[cos(u_power * theta_p), - sin(u_power *theta_p)],[ sin(u_power *theta_p), cos(u_power * theta_p)]])\n",
    "Qn"
   ]
  },
  {
   "cell_type": "markdown",
   "metadata": {
    "deletable": true,
    "editable": true
   },
   "source": [
    "Below I construct the various control gates in terms of nearest neighbour gates"
   ]
  },
  {
   "cell_type": "code",
   "execution_count": 37,
   "metadata": {
    "collapsed": false,
    "deletable": true,
    "editable": true
   },
   "outputs": [
    {
     "data": {
      "text/html": [
       "<html><script type=\"math/tex; mode=display\">\\newcommand{\\Bold}[1]{\\mathbf{#1}}\\left(\\left(\\begin{array}{rr}\n",
       "\\cos\\left(\\theta_{p}\\right) & -\\sin\\left(\\theta_{p}\\right) \\\\\n",
       "\\sin\\left(\\theta_{p}\\right) & \\cos\\left(\\theta_{p}\\right)\n",
       "\\end{array}\\right), \\left(\\begin{array}{rr}\n",
       "\\cos\\left(2 \\, \\theta_{p}\\right) & -\\sin\\left(2 \\, \\theta_{p}\\right) \\\\\n",
       "\\sin\\left(2 \\, \\theta_{p}\\right) & \\cos\\left(2 \\, \\theta_{p}\\right)\n",
       "\\end{array}\\right), \\left(\\begin{array}{rr}\n",
       "\\cos\\left(4 \\, \\theta_{p}\\right) & -\\sin\\left(4 \\, \\theta_{p}\\right) \\\\\n",
       "\\sin\\left(4 \\, \\theta_{p}\\right) & \\cos\\left(4 \\, \\theta_{p}\\right)\n",
       "\\end{array}\\right)\\right)</script></html>"
      ],
      "text/plain": [
       "(\n",
       "[ cos(theta_p) -sin(theta_p)]  [ cos(2*theta_p) -sin(2*theta_p)]\n",
       "[ sin(theta_p)  cos(theta_p)], [ sin(2*theta_p)  cos(2*theta_p)],\n",
       "\n",
       "[ cos(4*theta_p) -sin(4*theta_p)]\n",
       "[ sin(4*theta_p)  cos(4*theta_p)]\n",
       ")"
      ]
     },
     "execution_count": 37,
     "metadata": {},
     "output_type": "execute_result"
    }
   ],
   "source": [
    "Q=Qn.substitute(u_power=1)\n",
    "Q2=Qn.substitute(u_power=2)\n",
    "Q4=Qn.substitute(u_power=4)\n",
    "Q,Q2,Q4\n",
    "#Q2[1][1]"
   ]
  },
  {
   "cell_type": "code",
   "execution_count": 38,
   "metadata": {
    "collapsed": false,
    "deletable": true,
    "editable": true
   },
   "outputs": [
    {
     "data": {
      "text/html": [
       "<html><script type=\"math/tex; mode=display\">\\newcommand{\\Bold}[1]{\\mathbf{#1}}\\left(\\left(\\begin{array}{rrrr}\n",
       "1 & 0 & 0 & 0 \\\\\n",
       "0 & 1 & 0 & 0 \\\\\n",
       "0 & 0 & \\cos\\left(\\theta_{p}\\right) & -\\sin\\left(\\theta_{p}\\right) \\\\\n",
       "0 & 0 & \\sin\\left(\\theta_{p}\\right) & \\cos\\left(\\theta_{p}\\right)\n",
       "\\end{array}\\right), \\left(\\begin{array}{rrrr}\n",
       "1 & 0 & 0 & 0 \\\\\n",
       "0 & 1 & 0 & 0 \\\\\n",
       "0 & 0 & \\cos\\left(2 \\, \\theta_{p}\\right) & -\\sin\\left(2 \\, \\theta_{p}\\right) \\\\\n",
       "0 & 0 & \\sin\\left(2 \\, \\theta_{p}\\right) & \\cos\\left(2 \\, \\theta_{p}\\right)\n",
       "\\end{array}\\right), \\left(\\begin{array}{rrrr}\n",
       "1 & 0 & 0 & 0 \\\\\n",
       "0 & 1 & 0 & 0 \\\\\n",
       "0 & 0 & \\cos\\left(4 \\, \\theta_{p}\\right) & -\\sin\\left(4 \\, \\theta_{p}\\right) \\\\\n",
       "0 & 0 & \\sin\\left(4 \\, \\theta_{p}\\right) & \\cos\\left(4 \\, \\theta_{p}\\right)\n",
       "\\end{array}\\right)\\right)</script></html>"
      ],
      "text/plain": [
       "(\n",
       "[            1             0             0             0]\n",
       "[            0             1             0             0]\n",
       "[            0             0  cos(theta_p) -sin(theta_p)]\n",
       "[            0             0  sin(theta_p)  cos(theta_p)],\n",
       "\n",
       "[              1               0               0               0]\n",
       "[              0               1               0               0]\n",
       "[              0               0  cos(2*theta_p) -sin(2*theta_p)]\n",
       "[              0               0  sin(2*theta_p)  cos(2*theta_p)],\n",
       "\n",
       "[              1               0               0               0]\n",
       "[              0               1               0               0]\n",
       "[              0               0  cos(4*theta_p) -sin(4*theta_p)]\n",
       "[              0               0  sin(4*theta_p)  cos(4*theta_p)]\n",
       ")"
      ]
     },
     "execution_count": 38,
     "metadata": {},
     "output_type": "execute_result"
    }
   ],
   "source": [
    "U_q=matrix([[1,0,0,0],[0,1,0,0],[0,0,Q[0][0],Q[0][1]],[0,0,Q[1][0],Q[1][1]]])\n",
    "U_q3=matrix([[1,0,0,0],[0,1,0,0],[0,0,Q2[0][0],Q2[0][1]],[0,0,Q2[1][0],Q2[1][1]]])\n",
    "U_q4=matrix([[1,0,0,0],[0,1,0,0],[0,0,Q4[0][0],Q4[0][1]],[0,0,Q4[1][0],Q4[1][1]]])\n",
    "U_q,U_q3,U_q4"
   ]
  },
  {
   "cell_type": "code",
   "execution_count": 42,
   "metadata": {
    "collapsed": false,
    "deletable": true,
    "editable": true
   },
   "outputs": [],
   "source": [
    "# Q_q3 control gate expressed in terms of the U_q3 control gate\n",
    "Q_q3=S.tensor_product(I) * I.tensor_product(U_q3) * S.tensor_product(I)\n",
    "\n",
    "# Q_q4 expressed in terms of the U_q4 control gate\n",
    "a = S.tensor_product(I).tensor_product(I)\n",
    "b = I.tensor_product(S).tensor_product(I)\n",
    "p = I.tensor_product(I).tensor_product(U_q4)\n",
    "Q_q4= a*b*p*b*a\n",
    "\n",
    "# hadamard gates\n",
    "H3 = H.tensor_product(H).tensor_product(H)\n"
   ]
  },
  {
   "cell_type": "markdown",
   "metadata": {
    "deletable": true,
    "editable": true
   },
   "source": [
    "### First stage of the amplitude estimation circuit"
   ]
  },
  {
   "cell_type": "code",
   "execution_count": 44,
   "metadata": {
    "collapsed": false,
    "deletable": true,
    "editable": true
   },
   "outputs": [],
   "source": [
    "#Stage 1\n",
    "S1 = H3.tensor_product(R_y)\n",
    "\n",
    "#Stage 2\n",
    "S2=I.tensor_product(I).tensor_product(U_q)\n",
    "\n",
    "#stage 3\n",
    "\n",
    "S3=I.tensor_product(Q_q3)\n",
    "\n",
    "#stage 4\n",
    "\n",
    "S4 = Q_q4\n",
    "\n",
    "\n",
    "E1 = S4 * S3 * S2 * S1 \n"
   ]
  },
  {
   "cell_type": "markdown",
   "metadata": {
    "deletable": true,
    "editable": true
   },
   "source": [
    "### ansatz : $|0000>$"
   ]
  },
  {
   "cell_type": "code",
   "execution_count": 45,
   "metadata": {
    "collapsed": true,
    "deletable": true,
    "editable": true
   },
   "outputs": [],
   "source": [
    "q0=matrix([[1],[0]])\n",
    "Q0 = q0.tensor_product(q0).tensor_product(q0).tensor_product(q0)"
   ]
  },
  {
   "cell_type": "markdown",
   "metadata": {
    "deletable": true,
    "editable": true
   },
   "source": [
    "Apply the operator to the inital condition"
   ]
  },
  {
   "cell_type": "code",
   "execution_count": 46,
   "metadata": {
    "collapsed": true,
    "deletable": true,
    "editable": true
   },
   "outputs": [],
   "source": [
    "u_result=E1 * Q0"
   ]
  },
  {
   "cell_type": "code",
   "execution_count": 67,
   "metadata": {
    "collapsed": false,
    "deletable": true,
    "editable": true
   },
   "outputs": [
    {
     "data": {
      "text/html": [
       "<html><script type=\"math/tex; mode=display\">\\newcommand{\\Bold}[1]{\\mathbf{#1}}\\left(\\begin{array}{r}\n",
       "\\frac{1}{4} \\, \\sqrt{2} \\\\\n",
       "0 \\\\\n",
       "\\frac{1}{4} \\, \\sqrt{2} \\\\\n",
       "0 \\\\\n",
       "\\frac{1}{4} \\, \\sqrt{2} \\\\\n",
       "0 \\\\\n",
       "\\frac{1}{4} \\, \\sqrt{2} \\\\\n",
       "0 \\\\\n",
       "\\frac{1}{4} \\, \\sqrt{2} \\\\\n",
       "0 \\\\\n",
       "\\frac{1}{4} \\, \\sqrt{2} \\\\\n",
       "0 \\\\\n",
       "\\frac{1}{4} \\, \\sqrt{2} \\\\\n",
       "0 \\\\\n",
       "\\frac{1}{4} \\, \\sqrt{2} \\\\\n",
       "0\n",
       "\\end{array}\\right)</script></html>"
      ],
      "text/plain": [
       "[1/4*sqrt(2)]\n",
       "[          0]\n",
       "[1/4*sqrt(2)]\n",
       "[          0]\n",
       "[1/4*sqrt(2)]\n",
       "[          0]\n",
       "[1/4*sqrt(2)]\n",
       "[          0]\n",
       "[1/4*sqrt(2)]\n",
       "[          0]\n",
       "[1/4*sqrt(2)]\n",
       "[          0]\n",
       "[1/4*sqrt(2)]\n",
       "[          0]\n",
       "[1/4*sqrt(2)]\n",
       "[          0]"
      ]
     },
     "execution_count": 67,
     "metadata": {},
     "output_type": "execute_result"
    }
   ],
   "source": [
    "v=u_result(theta_p = 0) #.simplify_full().simplify_trig()\n",
    "v"
   ]
  },
  {
   "cell_type": "markdown",
   "metadata": {
    "deletable": true,
    "editable": true
   },
   "source": [
    "Verify that the result is properly normalized"
   ]
  },
  {
   "cell_type": "code",
   "execution_count": 48,
   "metadata": {
    "collapsed": false,
    "deletable": true,
    "editable": true
   },
   "outputs": [
    {
     "data": {
      "text/html": [
       "<html><script type=\"math/tex; mode=display\">\\newcommand{\\Bold}[1]{\\mathbf{#1}}1</script></html>"
      ],
      "text/plain": [
       "1"
      ]
     },
     "execution_count": 48,
     "metadata": {},
     "output_type": "execute_result"
    }
   ],
   "source": [
    "v0 = v[0]*v[0]+v[1]*v[1]+v[2]*v[2]+v[3]*v[3] \n",
    "v1 = v[4]*v[4]+v[5]*v[5]+v[6]*v[6]+v[7]*v[7]\n",
    "v2 = v[8]*v[8]+v[9]*v[9]+v[10]*v[10]+v[11]*v[11] \n",
    "v3 = v[12]*v[12]+v[13]*v[13]+v[14]*v[14]+v[15]*v[15]\n",
    "w=v0 + v1 + v2 + v3\n",
    "w.simplify_trig()"
   ]
  },
  {
   "cell_type": "markdown",
   "metadata": {
    "deletable": true,
    "editable": true
   },
   "source": [
    "### Inverse QFT : Second stage of the Amplitude Estimation Circuit"
   ]
  },
  {
   "cell_type": "markdown",
   "metadata": {
    "deletable": true,
    "editable": true
   },
   "source": [
    "The 3 quibit reverse QFT (quantum Fourier transfor) is represented by the following operator :\n",
    "\n",
    "E_2 = $(H \\otimes I^{\\otimes 2}) \\times (\\tilde{C}_{P^{\\dagger},2} \\otimes I) \\times (I \\otimes H \\otimes I) \\times (I \\otimes \\tilde{C}_{P^{\\dagger},2}) \\times \\tilde{C}_{T^{\\dagger},3} \\times (I^{\\otimes 2} \\otimes H) $\n",
    "\n",
    "We have used the notation $\\tilde{C}_{u,n}$ to denote a controlled $U$ gate with the control and affected qubit reversed and with $n-2$ qubit channels in between and with \n",
    "\n",
    "+ the conjugate transpose of the phase gate $P^{\\dagger} = \\begin{bmatrix} 1 & 0 \\\\ 0 & e^{-i\\frac{\\pi}{2}} \\end{bmatrix}$\n",
    "\n",
    "+ the conjugate transpose of the $\\frac{\\pi}{8}$ gate $T^{\\dagger} = \\sqrt{P^{\\dagger}} = \\begin{bmatrix} 1 & 0 \\\\ 0 & e^{-i\\frac{\\pi}{4}} \\end{bmatrix}$\n",
    "\n",
    "Note that $S$ refers in this to the Swap gate, although S is also used to label the Phase gate. To avoid confusion $P$ is used to refer to the Phase gate matrix.\n",
    "\n",
    "In terms of regular control gates we have :\n",
    "\n",
    "$\\tilde{C}_{P^{\\dagger},2} = S \\times \\bar{C}_{P^{\\dagger},2} \\times S$\n",
    "\n",
    "$\\tilde{C}_{T^{\\dagger},2} = ( S \\otimes I) \\times (I \\otimes S) \\times (I \\otimes \\bar{C}_{T^{\\dagger},2}) \\times (I \\otimes S) \\times (S \\otimes I)$\n"
   ]
  },
  {
   "cell_type": "code",
   "execution_count": 49,
   "metadata": {
    "collapsed": false,
    "deletable": true,
    "editable": true
   },
   "outputs": [
    {
     "data": {
      "text/html": [
       "<html><script type=\"math/tex; mode=display\">\\newcommand{\\Bold}[1]{\\mathbf{#1}}\\left(\\begin{array}{rr}\n",
       "1 & 0 \\\\\n",
       "0 & -i\n",
       "\\end{array}\\right)</script></html>"
      ],
      "text/plain": [
       "[ 1  0]\n",
       "[ 0 -I]"
      ]
     },
     "execution_count": 49,
     "metadata": {},
     "output_type": "execute_result"
    }
   ],
   "source": [
    "P_dagger = matrix([[1,0],[0, e^(-i*pi/2)]])\n",
    "P_dagger"
   ]
  },
  {
   "cell_type": "code",
   "execution_count": 50,
   "metadata": {
    "collapsed": false,
    "deletable": true,
    "editable": true
   },
   "outputs": [
    {
     "data": {
      "text/html": [
       "<html><script type=\"math/tex; mode=display\">\\newcommand{\\Bold}[1]{\\mathbf{#1}}\\left(\\begin{array}{rr}\n",
       "1 & 0 \\\\\n",
       "0 & -\\left(\\frac{1}{2} i - \\frac{1}{2}\\right) \\, \\sqrt{2}\n",
       "\\end{array}\\right)</script></html>"
      ],
      "text/plain": [
       "[                     1                      0]\n",
       "[                     0 -(1/2*I - 1/2)*sqrt(2)]"
      ]
     },
     "execution_count": 50,
     "metadata": {},
     "output_type": "execute_result"
    }
   ],
   "source": [
    "T_dagger=matrix([[1,0],[0, e^(-i*pi/4)]])\n",
    "T_dagger"
   ]
  },
  {
   "cell_type": "code",
   "execution_count": 51,
   "metadata": {
    "collapsed": false,
    "deletable": true,
    "editable": true
   },
   "outputs": [
    {
     "data": {
      "text/html": [
       "<html><script type=\"math/tex; mode=display\">\\newcommand{\\Bold}[1]{\\mathbf{#1}}\\left(\\begin{array}{rrrr}\n",
       "1 & 0 & 0 & 0 \\\\\n",
       "0 & 1 & 0 & 0 \\\\\n",
       "0 & 0 & 1 & 0 \\\\\n",
       "0 & 0 & 0 & -i\n",
       "\\end{array}\\right)</script></html>"
      ],
      "text/plain": [
       "[ 1  0  0  0]\n",
       "[ 0  1  0  0]\n",
       "[ 0  0  1  0]\n",
       "[ 0  0  0 -I]"
      ]
     },
     "execution_count": 51,
     "metadata": {},
     "output_type": "execute_result"
    }
   ],
   "source": [
    "C_pdagger = matrix([[1,0,0,0], [0,1,0,0], [0,0,P_dagger[0][0], P_dagger[0][1]],[0,0,P_dagger[1][0], P_dagger[1][1]]])\n",
    "C_pdagger"
   ]
  },
  {
   "cell_type": "code",
   "execution_count": 52,
   "metadata": {
    "collapsed": false,
    "deletable": true,
    "editable": true
   },
   "outputs": [
    {
     "data": {
      "text/html": [
       "<html><script type=\"math/tex; mode=display\">\\newcommand{\\Bold}[1]{\\mathbf{#1}}\\left(\\begin{array}{rrrr}\n",
       "1 & 0 & 0 & 0 \\\\\n",
       "0 & 1 & 0 & 0 \\\\\n",
       "0 & 0 & 1 & 0 \\\\\n",
       "0 & 0 & 0 & -\\left(\\frac{1}{2} i - \\frac{1}{2}\\right) \\, \\sqrt{2}\n",
       "\\end{array}\\right)</script></html>"
      ],
      "text/plain": [
       "[                     1                      0                      0                      0]\n",
       "[                     0                      1                      0                      0]\n",
       "[                     0                      0                      1                      0]\n",
       "[                     0                      0                      0 -(1/2*I - 1/2)*sqrt(2)]"
      ]
     },
     "execution_count": 52,
     "metadata": {},
     "output_type": "execute_result"
    }
   ],
   "source": [
    "C_tdagger = matrix([[1,0,0,0], [0,1,0,0], [0,0,T_dagger[0][0], T_dagger[0][1]],[0,0,T_dagger[1][0], T_dagger[1][1]]])\n",
    "C_tdagger"
   ]
  },
  {
   "cell_type": "code",
   "execution_count": 54,
   "metadata": {
    "collapsed": false,
    "deletable": true,
    "editable": true
   },
   "outputs": [
    {
     "data": {
      "text/html": [
       "<html><script type=\"math/tex; mode=display\">\\newcommand{\\Bold}[1]{\\mathbf{#1}}\\left(\\begin{array}{rrrrrrrr}\n",
       "1 & 0 & 0 & 0 & 0 & 0 & 0 & 0 \\\\\n",
       "0 & 1 & 0 & 0 & 0 & 0 & 0 & 0 \\\\\n",
       "0 & 0 & 1 & 0 & 0 & 0 & 0 & 0 \\\\\n",
       "0 & 0 & 0 & 1 & 0 & 0 & 0 & 0 \\\\\n",
       "0 & 0 & 0 & 0 & 1 & 0 & 0 & 0 \\\\\n",
       "0 & 0 & 0 & 0 & 0 & -\\left(\\frac{1}{2} i - \\frac{1}{2}\\right) \\, \\sqrt{2} & 0 & 0 \\\\\n",
       "0 & 0 & 0 & 0 & 0 & 0 & 1 & 0 \\\\\n",
       "0 & 0 & 0 & 0 & 0 & 0 & 0 & -\\left(\\frac{1}{2} i - \\frac{1}{2}\\right) \\, \\sqrt{2}\n",
       "\\end{array}\\right)</script></html>"
      ],
      "text/plain": [
       "[                     1                      0                      0                      0                      0                      0                      0                      0]\n",
       "[                     0                      1                      0                      0                      0                      0                      0                      0]\n",
       "[                     0                      0                      1                      0                      0                      0                      0                      0]\n",
       "[                     0                      0                      0                      1                      0                      0                      0                      0]\n",
       "[                     0                      0                      0                      0                      1                      0                      0                      0]\n",
       "[                     0                      0                      0                      0                      0 -(1/2*I - 1/2)*sqrt(2)                      0                      0]\n",
       "[                     0                      0                      0                      0                      0                      0                      1                      0]\n",
       "[                     0                      0                      0                      0                      0                      0                      0 -(1/2*I - 1/2)*sqrt(2)]"
      ]
     },
     "execution_count": 54,
     "metadata": {},
     "output_type": "execute_result"
    }
   ],
   "source": [
    "CC_tdagger=(S.tensor_product(I)) * (I.tensor_product(S)) * ( I.tensor_product(C_tdagger)) * (I.tensor_product(S)) * (S.tensor_product(I))\n",
    "CC_tdagger"
   ]
  },
  {
   "cell_type": "code",
   "execution_count": 55,
   "metadata": {
    "collapsed": false,
    "deletable": true,
    "editable": true
   },
   "outputs": [
    {
     "data": {
      "text/html": [
       "<html><script type=\"math/tex; mode=display\">\\newcommand{\\Bold}[1]{\\mathbf{#1}}\\left(\\begin{array}{rrrrrrrr}\n",
       "1 & 0 & 0 & 0 & 0 & 0 & 0 & 0 \\\\\n",
       "0 & 1 & 0 & 0 & 0 & 0 & 0 & 0 \\\\\n",
       "0 & 0 & 1 & 0 & 0 & 0 & 0 & 0 \\\\\n",
       "0 & 0 & 0 & 1 & 0 & 0 & 0 & 0 \\\\\n",
       "0 & 0 & 0 & 0 & 1 & 0 & 0 & 0 \\\\\n",
       "0 & 0 & 0 & 0 & 0 & -\\left(\\frac{1}{2} i - \\frac{1}{2}\\right) \\, \\sqrt{2} & 0 & 0 \\\\\n",
       "0 & 0 & 0 & 0 & 0 & 0 & 1 & 0 \\\\\n",
       "0 & 0 & 0 & 0 & 0 & 0 & 0 & -\\left(\\frac{1}{2} i - \\frac{1}{2}\\right) \\, \\sqrt{2}\n",
       "\\end{array}\\right)</script></html>"
      ],
      "text/plain": [
       "[                     1                      0                      0                      0                      0                      0                      0                      0]\n",
       "[                     0                      1                      0                      0                      0                      0                      0                      0]\n",
       "[                     0                      0                      1                      0                      0                      0                      0                      0]\n",
       "[                     0                      0                      0                      1                      0                      0                      0                      0]\n",
       "[                     0                      0                      0                      0                      1                      0                      0                      0]\n",
       "[                     0                      0                      0                      0                      0 -(1/2*I - 1/2)*sqrt(2)                      0                      0]\n",
       "[                     0                      0                      0                      0                      0                      0                      1                      0]\n",
       "[                     0                      0                      0                      0                      0                      0                      0 -(1/2*I - 1/2)*sqrt(2)]"
      ]
     },
     "execution_count": 55,
     "metadata": {},
     "output_type": "execute_result"
    }
   ],
   "source": [
    "CC_u3.substitute(u11=T_dagger[0][0],u12=T_dagger[0][1], u21=T_dagger[1][0], u22=T_dagger[1][1])"
   ]
  },
  {
   "cell_type": "code",
   "execution_count": 56,
   "metadata": {
    "collapsed": false,
    "deletable": true,
    "editable": true
   },
   "outputs": [
    {
     "data": {
      "text/html": [
       "<html><script type=\"math/tex; mode=display\">\\newcommand{\\Bold}[1]{\\mathbf{#1}}\\left(\\begin{array}{rrrr}\n",
       "1 & 0 & 0 & 0 \\\\\n",
       "0 & 1 & 0 & 0 \\\\\n",
       "0 & 0 & 1 & 0 \\\\\n",
       "0 & 0 & 0 & -i\n",
       "\\end{array}\\right)</script></html>"
      ],
      "text/plain": [
       "[ 1  0  0  0]\n",
       "[ 0  1  0  0]\n",
       "[ 0  0  1  0]\n",
       "[ 0  0  0 -I]"
      ]
     },
     "execution_count": 56,
     "metadata": {},
     "output_type": "execute_result"
    }
   ],
   "source": [
    "CC_pdagger = S * C_pdagger * S\n",
    "CC_pdagger"
   ]
  },
  {
   "cell_type": "code",
   "execution_count": 57,
   "metadata": {
    "collapsed": false,
    "deletable": true,
    "editable": true
   },
   "outputs": [
    {
     "data": {
      "text/html": [
       "<html><script type=\"math/tex; mode=display\">\\newcommand{\\Bold}[1]{\\mathbf{#1}}\\left(\\begin{array}{rrrrrrrr}\n",
       "\\frac{1}{4} \\, \\sqrt{2} & \\frac{1}{4} \\, \\sqrt{2} & \\frac{1}{4} \\, \\sqrt{2} & \\frac{1}{4} \\, \\sqrt{2} & \\frac{1}{4} \\, \\sqrt{2} & \\frac{1}{4} \\, \\sqrt{2} & \\frac{1}{4} \\, \\sqrt{2} & \\frac{1}{4} \\, \\sqrt{2} \\\\\n",
       "\\frac{1}{4} \\, \\sqrt{2} & -\\frac{1}{4} \\, \\sqrt{2} & -\\frac{1}{4} i \\, \\sqrt{2} & \\frac{1}{4} i \\, \\sqrt{2} & -\\frac{1}{4} i + \\frac{1}{4} & \\frac{1}{4} i - \\frac{1}{4} & -\\frac{1}{4} i - \\frac{1}{4} & \\frac{1}{4} i + \\frac{1}{4} \\\\\n",
       "\\frac{1}{4} \\, \\sqrt{2} & \\frac{1}{4} \\, \\sqrt{2} & -\\frac{1}{4} \\, \\sqrt{2} & -\\frac{1}{4} \\, \\sqrt{2} & -\\frac{1}{4} i \\, \\sqrt{2} & -\\frac{1}{4} i \\, \\sqrt{2} & \\frac{1}{4} i \\, \\sqrt{2} & \\frac{1}{4} i \\, \\sqrt{2} \\\\\n",
       "\\frac{1}{4} \\, \\sqrt{2} & -\\frac{1}{4} \\, \\sqrt{2} & \\frac{1}{4} i \\, \\sqrt{2} & -\\frac{1}{4} i \\, \\sqrt{2} & -\\frac{1}{4} i - \\frac{1}{4} & \\frac{1}{4} i + \\frac{1}{4} & -\\frac{1}{4} i + \\frac{1}{4} & \\frac{1}{4} i - \\frac{1}{4} \\\\\n",
       "\\frac{1}{4} \\, \\sqrt{2} & \\frac{1}{4} \\, \\sqrt{2} & \\frac{1}{4} \\, \\sqrt{2} & \\frac{1}{4} \\, \\sqrt{2} & -\\frac{1}{4} \\, \\sqrt{2} & -\\frac{1}{4} \\, \\sqrt{2} & -\\frac{1}{4} \\, \\sqrt{2} & -\\frac{1}{4} \\, \\sqrt{2} \\\\\n",
       "\\frac{1}{4} \\, \\sqrt{2} & -\\frac{1}{4} \\, \\sqrt{2} & -\\frac{1}{4} i \\, \\sqrt{2} & \\frac{1}{4} i \\, \\sqrt{2} & \\frac{1}{4} i - \\frac{1}{4} & -\\frac{1}{4} i + \\frac{1}{4} & \\frac{1}{4} i + \\frac{1}{4} & -\\frac{1}{4} i - \\frac{1}{4} \\\\\n",
       "\\frac{1}{4} \\, \\sqrt{2} & \\frac{1}{4} \\, \\sqrt{2} & -\\frac{1}{4} \\, \\sqrt{2} & -\\frac{1}{4} \\, \\sqrt{2} & \\frac{1}{4} i \\, \\sqrt{2} & \\frac{1}{4} i \\, \\sqrt{2} & -\\frac{1}{4} i \\, \\sqrt{2} & -\\frac{1}{4} i \\, \\sqrt{2} \\\\\n",
       "\\frac{1}{4} \\, \\sqrt{2} & -\\frac{1}{4} \\, \\sqrt{2} & \\frac{1}{4} i \\, \\sqrt{2} & -\\frac{1}{4} i \\, \\sqrt{2} & \\frac{1}{4} i + \\frac{1}{4} & -\\frac{1}{4} i - \\frac{1}{4} & \\frac{1}{4} i - \\frac{1}{4} & -\\frac{1}{4} i + \\frac{1}{4}\n",
       "\\end{array}\\right)</script></html>"
      ],
      "text/plain": [
       "[   1/4*sqrt(2)    1/4*sqrt(2)    1/4*sqrt(2)    1/4*sqrt(2)    1/4*sqrt(2)    1/4*sqrt(2)    1/4*sqrt(2)    1/4*sqrt(2)]\n",
       "[   1/4*sqrt(2)   -1/4*sqrt(2) -1/4*I*sqrt(2)  1/4*I*sqrt(2)   -1/4*I + 1/4    1/4*I - 1/4   -1/4*I - 1/4    1/4*I + 1/4]\n",
       "[   1/4*sqrt(2)    1/4*sqrt(2)   -1/4*sqrt(2)   -1/4*sqrt(2) -1/4*I*sqrt(2) -1/4*I*sqrt(2)  1/4*I*sqrt(2)  1/4*I*sqrt(2)]\n",
       "[   1/4*sqrt(2)   -1/4*sqrt(2)  1/4*I*sqrt(2) -1/4*I*sqrt(2)   -1/4*I - 1/4    1/4*I + 1/4   -1/4*I + 1/4    1/4*I - 1/4]\n",
       "[   1/4*sqrt(2)    1/4*sqrt(2)    1/4*sqrt(2)    1/4*sqrt(2)   -1/4*sqrt(2)   -1/4*sqrt(2)   -1/4*sqrt(2)   -1/4*sqrt(2)]\n",
       "[   1/4*sqrt(2)   -1/4*sqrt(2) -1/4*I*sqrt(2)  1/4*I*sqrt(2)    1/4*I - 1/4   -1/4*I + 1/4    1/4*I + 1/4   -1/4*I - 1/4]\n",
       "[   1/4*sqrt(2)    1/4*sqrt(2)   -1/4*sqrt(2)   -1/4*sqrt(2)  1/4*I*sqrt(2)  1/4*I*sqrt(2) -1/4*I*sqrt(2) -1/4*I*sqrt(2)]\n",
       "[   1/4*sqrt(2)   -1/4*sqrt(2)  1/4*I*sqrt(2) -1/4*I*sqrt(2)    1/4*I + 1/4   -1/4*I - 1/4    1/4*I - 1/4   -1/4*I + 1/4]"
      ]
     },
     "execution_count": 57,
     "metadata": {},
     "output_type": "execute_result"
    }
   ],
   "source": [
    "S1_qft = I.tensor_product(I).tensor_product(H)\n",
    "S2_qft = CC_tdagger\n",
    "S3_qft = I.tensor_product(CC_pdagger)\n",
    "S4_qft = I.tensor_product(H).tensor_product(I)\n",
    "S5_qft = CC_pdagger.tensor_product(I)\n",
    "S6_qft = H.tensor_product(I).tensor_product(I)\n",
    "QFT    = S6_qft * S5_qft * S4_qft * S3_qft * S2_qft * S1_qft\n",
    "QFT"
   ]
  },
  {
   "cell_type": "code",
   "execution_count": 58,
   "metadata": {
    "collapsed": false,
    "deletable": true,
    "editable": true
   },
   "outputs": [
    {
     "data": {
      "text/html": [
       "<html><script type=\"math/tex; mode=display\">\\newcommand{\\Bold}[1]{\\mathbf{#1}}1</script></html>"
      ],
      "text/plain": [
       "1"
      ]
     },
     "execution_count": 58,
     "metadata": {},
     "output_type": "execute_result"
    }
   ],
   "source": [
    "q3 = matrix([[1],[0]]).tensor_product(matrix([[0],[1]])).tensor_product(matrix([[1],[0]]))\n",
    "vx=QFT*q3\n",
    "vx0 = norm(vx[0])*norm(vx[0])+norm(vx[1])*norm(vx[1])+norm(vx[2])*norm(vx[2])+norm(vx[3])*norm(vx[3])\n",
    "vx1 = norm(vx[4])*norm(vx[4])+norm(vx[5])*norm(vx[5])+norm(vx[6])*norm(vx[6])+norm(vx[7])*norm(vx[7])\n",
    "vx0 + vx1"
   ]
  },
  {
   "cell_type": "code",
   "execution_count": 59,
   "metadata": {
    "collapsed": false,
    "deletable": true,
    "editable": true
   },
   "outputs": [
    {
     "data": {
      "text/html": [
       "<html><script type=\"math/tex; mode=display\">\\newcommand{\\Bold}[1]{\\mathbf{#1}}\\left(\\begin{array}{r}\n",
       "\\frac{1}{4} \\, \\sqrt{2} \\\\\n",
       "0 \\\\\n",
       "\\hline\n",
       " \\frac{1}{4} \\, \\sqrt{2} \\\\\n",
       "0 \\\\\n",
       "\\hline\n",
       " \\frac{1}{4} \\, \\sqrt{2} \\\\\n",
       "0 \\\\\n",
       "\\hline\n",
       " \\frac{1}{4} \\, \\sqrt{2} \\\\\n",
       "0 \\\\\n",
       "\\hline\n",
       " \\frac{1}{4} \\, \\sqrt{2} \\\\\n",
       "0 \\\\\n",
       "\\hline\n",
       " \\frac{1}{4} \\, \\sqrt{2} \\\\\n",
       "0 \\\\\n",
       "\\hline\n",
       " \\frac{1}{4} \\, \\sqrt{2} \\\\\n",
       "0 \\\\\n",
       "\\hline\n",
       " \\frac{1}{4} \\, \\sqrt{2} \\\\\n",
       "0\n",
       "\\end{array}\\right)</script></html>"
      ],
      "text/plain": [
       "[1/4*sqrt(2)]\n",
       "[          0]\n",
       "[-----------]\n",
       "[1/4*sqrt(2)]\n",
       "[          0]\n",
       "[-----------]\n",
       "[1/4*sqrt(2)]\n",
       "[          0]\n",
       "[-----------]\n",
       "[1/4*sqrt(2)]\n",
       "[          0]\n",
       "[-----------]\n",
       "[1/4*sqrt(2)]\n",
       "[          0]\n",
       "[-----------]\n",
       "[1/4*sqrt(2)]\n",
       "[          0]\n",
       "[-----------]\n",
       "[1/4*sqrt(2)]\n",
       "[          0]\n",
       "[-----------]\n",
       "[1/4*sqrt(2)]\n",
       "[          0]"
      ]
     },
     "execution_count": 59,
     "metadata": {},
     "output_type": "execute_result"
    }
   ],
   "source": [
    "E2=QFT.tensor_product(I)\n",
    "E2*Q0"
   ]
  },
  {
   "cell_type": "markdown",
   "metadata": {
    "deletable": true,
    "editable": true
   },
   "source": [
    "### Full Circuit Analysis for n = 3 probe qubits"
   ]
  },
  {
   "cell_type": "code",
   "execution_count": 68,
   "metadata": {
    "collapsed": false,
    "deletable": true,
    "editable": true
   },
   "outputs": [
    {
     "data": {
      "image/png": "[encoded data removed]",
      "text/plain": [
       "Graphics object consisting of 1 graphics primitive"
      ]
     },
     "execution_count": 68,
     "metadata": {},
     "output_type": "execute_result"
    }
   ],
   "source": [
    "Cr = E2*E1*Q0\n",
    "theta_p = 2.0*arcsin(sqrt(1.0))\n",
    "M=Cr(theta_p)\n",
    "P_2=[numerical_approx(norm(M[index]).simplify_full()*norm(M[index]).simplify_full()) for index in range(16)]\n",
    "bar_chart(P_2)\n"
   ]
  },
  {
   "cell_type": "code",
   "execution_count": 61,
   "metadata": {
    "collapsed": false,
    "deletable": true,
    "editable": true
   },
   "outputs": [
    {
     "data": {
      "text/html": [
       "<html><script type=\"math/tex; mode=display\">\\newcommand{\\Bold}[1]{\\mathbf{#1}}\\left(0.426776695296637, 0.426776695296637\\right)</script></html>"
      ],
      "text/plain": [
       "(0.426776695296637, 0.426776695296637)"
      ]
     },
     "execution_count": 61,
     "metadata": {},
     "output_type": "execute_result"
    }
   ],
   "source": [
    "P_2[3], P_2[15]\n"
   ]
  },
  {
   "cell_type": "code",
   "execution_count": 62,
   "metadata": {
    "collapsed": false,
    "deletable": true,
    "editable": true
   },
   "outputs": [
    {
     "data": {
      "text/html": [
       "<html><script type=\"math/tex; mode=display\">\\newcommand{\\Bold}[1]{\\mathbf{#1}}0.853553390593274</script></html>"
      ],
      "text/plain": [
       "0.853553390593274"
      ]
     },
     "execution_count": 62,
     "metadata": {},
     "output_type": "execute_result"
    }
   ],
   "source": [
    "a=numerical_approx(sin(3.0 * pi/8.0))\n",
    "a*a"
   ]
  },
  {
   "cell_type": "code",
   "execution_count": 63,
   "metadata": {
    "collapsed": false,
    "deletable": true,
    "editable": true
   },
   "outputs": [
    {
     "data": {
      "text/html": [
       "<html><script type=\"math/tex; mode=display\">\\newcommand{\\Bold}[1]{\\mathbf{#1}}0.853553390593273</script></html>"
      ],
      "text/plain": [
       "0.853553390593273"
      ]
     },
     "execution_count": 63,
     "metadata": {},
     "output_type": "execute_result"
    }
   ],
   "source": [
    "b=numerical_approx(sin(15.0 * pi/8.0))\n",
    "1-b*b"
   ]
  },
  {
   "cell_type": "code",
   "execution_count": 64,
   "metadata": {
    "collapsed": false,
    "deletable": true,
    "editable": true
   },
   "outputs": [
    {
     "data": {
      "text/html": [
       "<html><script type=\"math/tex; mode=display\">\\newcommand{\\Bold}[1]{\\mathbf{#1}}0.853553390593274</script></html>"
      ],
      "text/plain": [
       "0.853553390593274"
      ]
     },
     "execution_count": 64,
     "metadata": {},
     "output_type": "execute_result"
    }
   ],
   "source": [
    "P_2[3] + P_2[15]\n"
   ]
  },
  {
   "cell_type": "code",
   "execution_count": 65,
   "metadata": {
    "collapsed": false,
    "deletable": true,
    "editable": true
   },
   "outputs": [
    {
     "data": {
      "text/html": [
       "<html><script type=\"math/tex; mode=display\">\\newcommand{\\Bold}[1]{\\mathbf{#1}}0.125000000000000</script></html>"
      ],
      "text/plain": [
       "0.125000000000000"
      ]
     },
     "execution_count": 65,
     "metadata": {},
     "output_type": "execute_result"
    }
   ],
   "source": [
    "1.0/8.0"
   ]
  },
  {
   "cell_type": "code",
   "execution_count": 66,
   "metadata": {
    "collapsed": false,
    "deletable": true,
    "editable": true
   },
   "outputs": [
    {
     "data": {
      "text/html": [
       "<html><script type=\"math/tex; mode=display\">\\newcommand{\\Bold}[1]{\\mathbf{#1}}0.546911650465745</script></html>"
      ],
      "text/plain": [
       "0.546911650465745"
      ]
     },
     "execution_count": 66,
     "metadata": {},
     "output_type": "execute_result"
    }
   ],
   "source": [
    "numerical_approx(pi/8+ (pi*pi)/(8*8))"
   ]
  },
  {
   "cell_type": "code",
   "execution_count": null,
   "metadata": {
    "collapsed": true,
    "deletable": true,
    "editable": true
   },
   "outputs": [],
   "source": []
  }
 ],
 "metadata": {
  "kernelspec": {
   "display_name": "SageMath 8.1",
   "language": "",
   "name": "sagemath"
  },
  "language_info": {
   "codemirror_mode": {
    "name": "ipython",
    "version": 2
   },
   "file_extension": ".py",
   "mimetype": "text/x-python",
   "name": "python",
   "nbconvert_exporter": "python",
   "pygments_lexer": "ipython2",
   "version": "2.7.14"
  }
 },
 "nbformat": 4,
 "nbformat_minor": 2
}
